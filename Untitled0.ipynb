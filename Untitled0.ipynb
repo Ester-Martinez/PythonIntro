{
  "nbformat": 4,
  "nbformat_minor": 0,
  "metadata": {
    "colab": {
      "name": "Untitled0.ipynb",
      "provenance": [],
      "include_colab_link": true
    },
    "kernelspec": {
      "name": "python3",
      "display_name": "Python 3"
    }
  },
  "cells": [
    {
      "cell_type": "markdown",
      "metadata": {
        "id": "view-in-github",
        "colab_type": "text"
      },
      "source": [
        "<a href=\"https://colab.research.google.com/github/Ester-Martinez/PythonIntro/blob/master/Untitled0.ipynb\" target=\"_parent\"><img src=\"https://colab.research.google.com/assets/colab-badge.svg\" alt=\"Open In Colab\"/></a>"
      ]
    },
    {
      "cell_type": "code",
      "metadata": {
        "id": "onJDX1-F67Ji",
        "colab_type": "code",
        "colab": {
          "base_uri": "https://localhost:8080/",
          "height": 51
        },
        "outputId": "ebb70ec0-dc9c-4760-fa64-89ba2e85340a"
      },
      "source": [
        "#print(\"Hello, World\") - programa de edici'on jupyter o pycharm\n",
        "\n",
        "my_variable = \"Hello, World\"\n",
        "print(my_variable)\n",
        "\n",
        "#strings - se definen con comillas\n",
        "\n",
        "my_string = \"Hello, World!\"\n",
        "type(my_string)\n",
        "\n",
        "#numbers: int or foat\n",
        "my_int = 8\n",
        "my_float = 8.9\n",
        "\n",
        "#lists\n",
        "\n",
        "my_list = [1,2,3]\n",
        "\n",
        "type(my_list)\n",
        "\n",
        "#diccionario - conjuntos de objetos, que llevan key y value. Las keys son 'unicas y no se pueden repetir\n",
        "my_dicc = {\"felipe\": 9, \"bego\": 8}\n",
        "\n",
        "#booleans\n",
        "True\n",
        "False\n",
        "\n",
        "#todo lo que va dentro del if, es decir, despu'es de los dos puntos, tiene que ir indentado. La comparación de igualdad también se hace con dos ==\n",
        "sensor = 1\n",
        "if sensor == True:\n",
        "  print(\"Llueve\")\n",
        "\n",
        "#operaciones matem'aticas + - / *\n",
        "# // nos da la parte entera del resultado de la divisi'on. El m'odulo se hace con %. Las potencias con **"
      ],
      "execution_count": 12,
      "outputs": [
        {
          "output_type": "stream",
          "text": [
            "Hello, World\n",
            "Llueve\n"
          ],
          "name": "stdout"
        }
      ]
    },
    {
      "cell_type": "code",
      "metadata": {
        "id": "zrn1dkQSBelo",
        "colab_type": "code",
        "colab": {
          "base_uri": "https://localhost:8080/",
          "height": 68
        },
        "outputId": "3b96fc15-a166-4cdb-cdfc-e231d8adeaf5"
      },
      "source": [
        "#print(\"Hello \" + \"World\")\n",
        "h = \"Hello\"\n",
        "w = \"world\"\n",
        "\n",
        "print(h[0:3])\n",
        "print(h[-5])\n",
        "\n",
        "lst = [1,2,3,\"cuatro\", \"cinco\"]\n",
        "lst.append(6)\n",
        "lst.append([7, \"ocho\"])\n",
        "print(lst)"
      ],
      "execution_count": 23,
      "outputs": [
        {
          "output_type": "stream",
          "text": [
            "Hel\n",
            "H\n",
            "[1, 2, 3, 'cuatro', 'cinco', 6, [7, 'ocho']]\n"
          ],
          "name": "stdout"
        }
      ]
    },
    {
      "cell_type": "code",
      "metadata": {
        "id": "6HMRnoxQDJij",
        "colab_type": "code",
        "colab": {
          "base_uri": "https://localhost:8080/",
          "height": 34
        },
        "outputId": "646bff84-2bd5-41fe-b79a-1b50b279637f"
      },
      "source": [
        "my_dicc[\"bego\"]=10\n",
        "print(my_dicc)"
      ],
      "execution_count": 25,
      "outputs": [
        {
          "output_type": "stream",
          "text": [
            "{'felipe': 9, 'bego': 10}\n"
          ],
          "name": "stdout"
        }
      ]
    },
    {
      "cell_type": "code",
      "metadata": {
        "id": "yYkSDkAwDS5N",
        "colab_type": "code",
        "colab": {
          "base_uri": "https://localhost:8080/",
          "height": 272
        },
        "outputId": "b2a1992f-c43c-408b-cebf-85e6c76fed45"
      },
      "source": [
        "#loops\n",
        "my_newlist = ['python', 'java', 'c', 'html']\n",
        "my_newlist[:]\n",
        "\n",
        "#for loop\n",
        "for element in my_newlist:\n",
        "  print(element)\n",
        "\n",
        "#while loop\n",
        "variable = 0\n",
        "while variable < 10:\n",
        "  variable += 1\n",
        "  print(variable)\n",
        "  #break\n",
        "  \n",
        "print(\"finished\")"
      ],
      "execution_count": 30,
      "outputs": [
        {
          "output_type": "stream",
          "text": [
            "python\n",
            "java\n",
            "c\n",
            "html\n",
            "1\n",
            "2\n",
            "3\n",
            "4\n",
            "5\n",
            "6\n",
            "7\n",
            "8\n",
            "9\n",
            "10\n",
            "finished\n"
          ],
          "name": "stdout"
        }
      ]
    },
    {
      "cell_type": "code",
      "metadata": {
        "id": "uJhGzT7sFBzc",
        "colab_type": "code",
        "colab": {
          "base_uri": "https://localhost:8080/",
          "height": 34
        },
        "outputId": "e283d841-d899-41f7-f03b-6bd90972401f"
      },
      "source": [
        "# functions. programas que encapsulan instrucciones para poder volverse a utilizar\n",
        "\n",
        "def welcome(name):\n",
        "  welcome_message = \"Hola \" + name + \", bienvenido a Ironhack\"\n",
        "  return welcome_message\n",
        "\n",
        "print (welcome(\"Felipe\"))"
      ],
      "execution_count": 35,
      "outputs": [
        {
          "output_type": "stream",
          "text": [
            "Hola Felipe, bienvenido a Ironhack\n"
          ],
          "name": "stdout"
        }
      ]
    },
    {
      "cell_type": "code",
      "metadata": {
        "id": "6KgQzV1BF7QM",
        "colab_type": "code",
        "colab": {}
      },
      "source": [
        "#pypi.org - librerias de python\n",
        "import math\n",
        "import statistics"
      ],
      "execution_count": 0,
      "outputs": []
    },
    {
      "cell_type": "code",
      "metadata": {
        "id": "uRd91StpGqyW",
        "colab_type": "code",
        "colab": {
          "base_uri": "https://localhost:8080/",
          "height": 34
        },
        "outputId": "c06306ab-ef8d-4821-e11f-dbbe51e331a0"
      },
      "source": [
        "newlist = [1,2,3,44,5,4,3,2,5,454,6,4]\n",
        "statistics.mean(newlist)"
      ],
      "execution_count": 44,
      "outputs": [
        {
          "output_type": "execute_result",
          "data": {
            "text/plain": [
              "44.416666666666664"
            ]
          },
          "metadata": {
            "tags": []
          },
          "execution_count": 44
        }
      ]
    },
    {
      "cell_type": "code",
      "metadata": {
        "id": "ra0mM940H0cI",
        "colab_type": "code",
        "colab": {
          "base_uri": "https://localhost:8080/",
          "height": 34
        },
        "outputId": "abee7026-35f1-46b9-ccb8-8bfd9ee5ae0c"
      },
      "source": [
        "len(newlist)\n",
        "def my_mean(lst):\n",
        "  return sum(lst)/len(lst)\n",
        "my_mean(newlist)"
      ],
      "execution_count": 47,
      "outputs": [
        {
          "output_type": "execute_result",
          "data": {
            "text/plain": [
              "44.416666666666664"
            ]
          },
          "metadata": {
            "tags": []
          },
          "execution_count": 47
        }
      ]
    }
  ]
}